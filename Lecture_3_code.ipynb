{
  "nbformat": 4,
  "nbformat_minor": 0,
  "metadata": {
    "colab": {
      "provenance": []
    },
    "kernelspec": {
      "name": "python3",
      "display_name": "Python 3"
    },
    "language_info": {
      "name": "python"
    }
  },
  "cells": [
    {
      "cell_type": "code",
      "execution_count": null,
      "metadata": {
        "colab": {
          "base_uri": "https://localhost:8080/"
        },
        "id": "5ALnQSNTYjQ2",
        "outputId": "dafeb581-6cd8-4efe-931b-b30722965c42"
      },
      "outputs": [
        {
          "output_type": "stream",
          "name": "stdout",
          "text": [
            "My name is Bijay\n"
          ]
        }
      ],
      "source": [
        "print(\"My name is Bijay\")"
      ]
    },
    {
      "cell_type": "code",
      "source": [
        "a=input(\"Enter first number \")\n",
        "b=input(\"Enter second number \")\n",
        "print(\"The sum is:\",a+b)"
      ],
      "metadata": {
        "colab": {
          "base_uri": "https://localhost:8080/"
        },
        "id": "vUwBLIu4YvY8",
        "outputId": "4c8b5d6d-0962-4f18-ad57-c767dd184236"
      },
      "execution_count": null,
      "outputs": [
        {
          "output_type": "stream",
          "name": "stdout",
          "text": [
            "Enter first number 2\n",
            "Enter second number 4\n",
            "The sum is: 24\n"
          ]
        }
      ]
    },
    {
      "cell_type": "code",
      "source": [
        "print(\"My name is Bijay\")"
      ],
      "metadata": {
        "id": "dPQEXXmDZEMN",
        "colab": {
          "base_uri": "https://localhost:8080/"
        },
        "outputId": "6e846c22-8046-468c-a15d-4f05ec320987"
      },
      "execution_count": null,
      "outputs": [
        {
          "output_type": "stream",
          "name": "stdout",
          "text": [
            "My name is Bijay\n"
          ]
        }
      ]
    },
    {
      "cell_type": "code",
      "source": [
        "a=int(input(\"Enter first number:\"))\n",
        "b=int(input(\"Enter second number:\"))\n",
        "c=a+b\n",
        "print(\"The sum is: \",c)"
      ],
      "metadata": {
        "colab": {
          "base_uri": "https://localhost:8080/"
        },
        "id": "vAwYxlueZSmE",
        "outputId": "e6dbc4f5-a29c-49ca-b76a-fcc05804a1dc"
      },
      "execution_count": null,
      "outputs": [
        {
          "output_type": "stream",
          "name": "stdout",
          "text": [
            "Enter first number:6\n",
            "Enter second number:8\n",
            "The sum is:  14\n"
          ]
        }
      ]
    },
    {
      "cell_type": "code",
      "source": [],
      "metadata": {
        "id": "5Xy8IgBMZhFi"
      },
      "execution_count": null,
      "outputs": []
    }
  ]
}