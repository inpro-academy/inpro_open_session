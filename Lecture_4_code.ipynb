{
  "nbformat": 4,
  "nbformat_minor": 0,
  "metadata": {
    "colab": {
      "provenance": []
    },
    "kernelspec": {
      "name": "python3",
      "display_name": "Python 3"
    },
    "language_info": {
      "name": "python"
    }
  },
  "cells": [
    {
      "cell_type": "markdown",
      "source": [
        "## **Arithmetic Operation**"
      ],
      "metadata": {
        "id": "g3YbiM1uFpkL"
      }
    },
    {
      "cell_type": "markdown",
      "source": [
        "Addition"
      ],
      "metadata": {
        "id": "GA_UKfwjF0lA"
      }
    },
    {
      "cell_type": "code",
      "source": [
        "5+2+4+5-2-5\n"
      ],
      "metadata": {
        "id": "Jx2k7w8TFzVC",
        "colab": {
          "base_uri": "https://localhost:8080/"
        },
        "outputId": "18477f9a-2a28-40ab-cf4a-f08f85ab09bf"
      },
      "execution_count": 2,
      "outputs": [
        {
          "output_type": "execute_result",
          "data": {
            "text/plain": [
              "9"
            ]
          },
          "metadata": {},
          "execution_count": 2
        }
      ]
    },
    {
      "cell_type": "code",
      "source": [
        "a=int(input(\"Enter first number:\"))\n",
        "b=int(input(\"Enter second number\"))\n",
        "c=a+b\n",
        "print(\"The sum is:\",c)"
      ],
      "metadata": {
        "colab": {
          "base_uri": "https://localhost:8080/"
        },
        "id": "9Hn6Zd86UMd7",
        "outputId": "13ce9074-e322-4230-a16a-bedc8f2fe8ad"
      },
      "execution_count": 5,
      "outputs": [
        {
          "output_type": "stream",
          "name": "stdout",
          "text": [
            "Enter first number:5\n",
            "Enter second number6\n",
            "The sum is: 11\n"
          ]
        }
      ]
    },
    {
      "cell_type": "markdown",
      "source": [
        "Subtraction"
      ],
      "metadata": {
        "id": "4D3Ph66RF2zg"
      }
    },
    {
      "cell_type": "code",
      "source": [
        "5-2"
      ],
      "metadata": {
        "id": "9HZt5RaaF2QY",
        "colab": {
          "base_uri": "https://localhost:8080/"
        },
        "outputId": "54a9e996-00c2-4b74-eac3-1c1f416999dd"
      },
      "execution_count": 6,
      "outputs": [
        {
          "output_type": "execute_result",
          "data": {
            "text/plain": [
              "3"
            ]
          },
          "metadata": {},
          "execution_count": 6
        }
      ]
    },
    {
      "cell_type": "code",
      "source": [
        "a=int(input(\"Enter first number:\"))\n",
        "b=int(input(\"Enter second number\"))\n",
        "c=a-b\n",
        "print(\"The subtraction is:\",c)"
      ],
      "metadata": {
        "colab": {
          "base_uri": "https://localhost:8080/"
        },
        "id": "lIRx31UpU6LP",
        "outputId": "af3f8338-b2c1-4ed0-d91b-56a354c0c83a"
      },
      "execution_count": 7,
      "outputs": [
        {
          "output_type": "stream",
          "name": "stdout",
          "text": [
            "Enter first number:20\n",
            "Enter second number10\n",
            "The subtraction is: 10\n"
          ]
        }
      ]
    },
    {
      "cell_type": "markdown",
      "source": [
        "Multiplication"
      ],
      "metadata": {
        "id": "4WqrWihcF4mx"
      }
    },
    {
      "cell_type": "code",
      "execution_count": 9,
      "metadata": {
        "id": "J_nxumV0Flfs",
        "colab": {
          "base_uri": "https://localhost:8080/"
        },
        "outputId": "5ea0abaf-ddfd-4ce3-b217-5011a4e8246e"
      },
      "outputs": [
        {
          "output_type": "execute_result",
          "data": {
            "text/plain": [
              "900"
            ]
          },
          "metadata": {},
          "execution_count": 9
        }
      ],
      "source": [
        "5*6*5*6\n",
        "\n"
      ]
    },
    {
      "cell_type": "code",
      "source": [
        "a=int(input(\"Enter first number:\"))\n",
        "b=int(input(\"Enter second number\"))\n",
        "c=a*b\n",
        "print(\"The multiplication is:\",c)"
      ],
      "metadata": {
        "colab": {
          "base_uri": "https://localhost:8080/"
        },
        "id": "wAo56PZgVF0G",
        "outputId": "d67e8327-86ac-4805-e334-ec4ba8b5dbd3"
      },
      "execution_count": 10,
      "outputs": [
        {
          "output_type": "stream",
          "name": "stdout",
          "text": [
            "Enter first number:5\n",
            "Enter second number6\n",
            "The multiplication is: 30\n"
          ]
        }
      ]
    },
    {
      "cell_type": "markdown",
      "source": [
        "Division (/)"
      ],
      "metadata": {
        "id": "86_cahEbF9Hw"
      }
    },
    {
      "cell_type": "code",
      "source": [
        "5/6\n"
      ],
      "metadata": {
        "id": "pzAmhZ8sGGvN",
        "colab": {
          "base_uri": "https://localhost:8080/"
        },
        "outputId": "27e7b69b-4aee-465c-dc61-9ed35be82bdc"
      },
      "execution_count": 11,
      "outputs": [
        {
          "output_type": "execute_result",
          "data": {
            "text/plain": [
              "0.8333333333333334"
            ]
          },
          "metadata": {},
          "execution_count": 11
        }
      ]
    },
    {
      "cell_type": "code",
      "source": [
        "2/1"
      ],
      "metadata": {
        "colab": {
          "base_uri": "https://localhost:8080/"
        },
        "id": "VBCq5YDkVXKZ",
        "outputId": "ef648f14-9f8a-46bc-b308-5f27213bb70a"
      },
      "execution_count": 12,
      "outputs": [
        {
          "output_type": "execute_result",
          "data": {
            "text/plain": [
              "2.0"
            ]
          },
          "metadata": {},
          "execution_count": 12
        }
      ]
    },
    {
      "cell_type": "code",
      "source": [
        "a=int(input(\"Enter first number:\"))\n",
        "b=int(input(\"Enter second number\"))\n",
        "c=int(a/b)\n",
        "\n",
        "print(\"The division is:\",float(c))"
      ],
      "metadata": {
        "colab": {
          "base_uri": "https://localhost:8080/"
        },
        "id": "tSK6YkimVcGs",
        "outputId": "b01480a0-aa15-4c47-dd2e-e9c7fe70a6b6"
      },
      "execution_count": 17,
      "outputs": [
        {
          "output_type": "stream",
          "name": "stdout",
          "text": [
            "Enter first number:6\n",
            "Enter second number4\n",
            "The division is: 1.0\n"
          ]
        }
      ]
    },
    {
      "cell_type": "markdown",
      "source": [
        "Modulo (%)"
      ],
      "metadata": {
        "id": "cPqdPvftGHGW"
      }
    },
    {
      "cell_type": "code",
      "source": [
        "6%4\n"
      ],
      "metadata": {
        "id": "9tLCnEQiGYhk",
        "colab": {
          "base_uri": "https://localhost:8080/"
        },
        "outputId": "8c6587d0-7784-4ff6-abbe-5d516a04f338"
      },
      "execution_count": 21,
      "outputs": [
        {
          "output_type": "execute_result",
          "data": {
            "text/plain": [
              "2"
            ]
          },
          "metadata": {},
          "execution_count": 21
        }
      ]
    },
    {
      "cell_type": "markdown",
      "source": [
        "Integer division (//)"
      ],
      "metadata": {
        "id": "fs1ZGwmXGVWc"
      }
    },
    {
      "cell_type": "code",
      "source": [
        "a=int(input(\"Enter first number:\"))\n",
        "b=int(input(\"Enter second number\"))\n",
        "c=a//b\n",
        "print(\"The division is:\",c)"
      ],
      "metadata": {
        "id": "dYXy8SbaGXnF",
        "colab": {
          "base_uri": "https://localhost:8080/"
        },
        "outputId": "39260d87-1017-424c-c758-b4a6620cfe54"
      },
      "execution_count": 15,
      "outputs": [
        {
          "output_type": "stream",
          "name": "stdout",
          "text": [
            "Enter first number:5\n",
            "Enter second number2\n",
            "The division is: 2\n"
          ]
        }
      ]
    },
    {
      "cell_type": "markdown",
      "source": [
        "Exponential (**)"
      ],
      "metadata": {
        "id": "2rlL6vGqGJtd"
      }
    },
    {
      "cell_type": "code",
      "source": [
        "2**2\n"
      ],
      "metadata": {
        "id": "C-ZHmtUPGPd9",
        "colab": {
          "base_uri": "https://localhost:8080/"
        },
        "outputId": "cbb6b075-dbec-4751-fa0e-69a7a592cdba"
      },
      "execution_count": 18,
      "outputs": [
        {
          "output_type": "execute_result",
          "data": {
            "text/plain": [
              "4"
            ]
          },
          "metadata": {},
          "execution_count": 18
        }
      ]
    },
    {
      "cell_type": "code",
      "source": [
        "2**5"
      ],
      "metadata": {
        "colab": {
          "base_uri": "https://localhost:8080/"
        },
        "id": "6lXocmVYWdIE",
        "outputId": "520642ec-9aa0-41df-d028-cd80a0e18686"
      },
      "execution_count": 19,
      "outputs": [
        {
          "output_type": "execute_result",
          "data": {
            "text/plain": [
              "32"
            ]
          },
          "metadata": {},
          "execution_count": 19
        }
      ]
    },
    {
      "cell_type": "code",
      "source": [
        "2+6j"
      ],
      "metadata": {
        "colab": {
          "base_uri": "https://localhost:8080/"
        },
        "id": "flmg_J3JWeih",
        "outputId": "28421b59-136b-40c7-d3d4-00e323be180c"
      },
      "execution_count": 22,
      "outputs": [
        {
          "output_type": "execute_result",
          "data": {
            "text/plain": [
              "(2+6j)"
            ]
          },
          "metadata": {},
          "execution_count": 22
        }
      ]
    },
    {
      "cell_type": "code",
      "source": [
        "(2+6J)*(5+2J)"
      ],
      "metadata": {
        "colab": {
          "base_uri": "https://localhost:8080/"
        },
        "id": "fFxD5HHIW170",
        "outputId": "2222ea9d-a765-43d9-cd21-796c6a58581a"
      },
      "execution_count": 23,
      "outputs": [
        {
          "output_type": "execute_result",
          "data": {
            "text/plain": [
              "(-2+34j)"
            ]
          },
          "metadata": {},
          "execution_count": 23
        }
      ]
    },
    {
      "cell_type": "code",
      "source": [],
      "metadata": {
        "colab": {
          "base_uri": "https://localhost:8080/"
        },
        "id": "BxFOl30pW7im",
        "outputId": "9ea7f3d8-f896-4c56-acd8-0b00e99a2ac0"
      },
      "execution_count": 29,
      "outputs": [
        {
          "output_type": "stream",
          "name": "stdout",
          "text": [
            "2.0\n"
          ]
        }
      ]
    },
    {
      "cell_type": "code",
      "source": [],
      "metadata": {
        "id": "agJVhdBoXJy0"
      },
      "execution_count": null,
      "outputs": []
    }
  ]
}