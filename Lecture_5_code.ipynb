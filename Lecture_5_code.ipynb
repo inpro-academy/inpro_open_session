{
  "nbformat": 4,
  "nbformat_minor": 0,
  "metadata": {
    "colab": {
      "provenance": []
    },
    "kernelspec": {
      "name": "python3",
      "display_name": "Python 3"
    },
    "language_info": {
      "name": "python"
    }
  },
  "cells": [
    {
      "cell_type": "code",
      "source": [
        "var1= bool(input(\"Enter your decision\"))\n",
        "\n",
        "print (var1)"
      ],
      "metadata": {
        "id": "pQ0NvnY5IgHz",
        "colab": {
          "base_uri": "https://localhost:8080/"
        },
        "outputId": "849bcbf7-2389-4f39-c785-a1737af1aa77"
      },
      "execution_count": 1,
      "outputs": [
        {
          "output_type": "stream",
          "name": "stdout",
          "text": [
            "Enter your decision56\n",
            "9758592\n"
          ]
        }
      ]
    },
    {
      "cell_type": "code",
      "source": [
        "#Enter multiple input\n",
        "a,b,c=input(\"Enter three digits:\").split()\n",
        "d=int(a)+int(b)+int(c)\n",
        "print(d)"
      ],
      "metadata": {
        "colab": {
          "base_uri": "https://localhost:8080/"
        },
        "id": "d3VUAVfjcYv3",
        "outputId": "557738cf-fb08-4380-867f-b2946a275f7d"
      },
      "execution_count": null,
      "outputs": [
        {
          "output_type": "stream",
          "name": "stdout",
          "text": [
            "Enter three digits:7 8 9\n",
            "24\n"
          ]
        }
      ]
    },
    {
      "cell_type": "code",
      "source": [
        "#None\n",
        "a=None\n",
        "print(a)"
      ],
      "metadata": {
        "colab": {
          "base_uri": "https://localhost:8080/"
        },
        "id": "CjNoSu92fszW",
        "outputId": "ea111ac6-0201-49f2-ba79-0a1146651d21"
      },
      "execution_count": null,
      "outputs": [
        {
          "output_type": "stream",
          "name": "stdout",
          "text": [
            "None\n"
          ]
        }
      ]
    },
    {
      "cell_type": "code",
      "source": [
        "#byte and bytearray\n",
        "a=b\"name\"\n",
        "print(type(a))"
      ],
      "metadata": {
        "colab": {
          "base_uri": "https://localhost:8080/"
        },
        "id": "_FNSHN1agu-i",
        "outputId": "9c467588-3e1e-41be-f6bc-ba23b6646f21"
      },
      "execution_count": null,
      "outputs": [
        {
          "output_type": "stream",
          "name": "stdout",
          "text": [
            "<class 'bytes'>\n"
          ]
        }
      ]
    },
    {
      "cell_type": "code",
      "source": [
        "a=bytearray(b\"name\")\n",
        "print(type(a))"
      ],
      "metadata": {
        "colab": {
          "base_uri": "https://localhost:8080/"
        },
        "id": "7AVT2sk3g-eI",
        "outputId": "414fed6a-8822-4554-82ee-a082a8e09533"
      },
      "execution_count": null,
      "outputs": [
        {
          "output_type": "stream",
          "name": "stdout",
          "text": [
            "<class 'bytearray'>\n"
          ]
        }
      ]
    },
    {
      "cell_type": "code",
      "source": [
        "# a to z, A to Z, 1 to 0, name_name2\n",
        "PI=3.14"
      ],
      "metadata": {
        "id": "gHKt7UYGhGd1"
      },
      "execution_count": null,
      "outputs": []
    }
  ]
}