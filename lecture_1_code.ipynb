{
  "nbformat": 4,
  "nbformat_minor": 0,
  "metadata": {
    "colab": {
      "provenance": []
    },
    "kernelspec": {
      "name": "python3",
      "display_name": "Python 3"
    },
    "language_info": {
      "name": "python"
    }
  },
  "cells": [
    {
      "cell_type": "markdown",
      "source": [
        "### **For school students**"
      ],
      "metadata": {
        "id": "847HiKSOzIG4"
      }
    },
    {
      "cell_type": "markdown",
      "source": [
        "**Program to solve simultaneous equations in two variables**"
      ],
      "metadata": {
        "id": "xPSwsg_AtNyp"
      }
    },
    {
      "cell_type": "code",
      "execution_count": 1,
      "metadata": {
        "colab": {
          "base_uri": "https://localhost:8080/"
        },
        "id": "flil2TaJtJYb",
        "outputId": "a2d70186-8da7-408d-fcef-3a202bec755a"
      },
      "outputs": [
        {
          "output_type": "stream",
          "name": "stdout",
          "text": [
            "{x: 9/11, y: 7/11}\n"
          ]
        }
      ],
      "source": [
        "from sympy import symbols, Eq, solve\n",
        "\n",
        "# define variables\n",
        "x, y = symbols('x y')\n",
        "\n",
        "# define equations\n",
        "equ1 = Eq(3*x + 4*y, 5) # 3x+4y = 5\n",
        "equ2 = Eq(2*x - y, 1) # 2x-y = 1\n",
        "\n",
        "# solve system of equations\n",
        "solution = solve((equ1, equ2), (x, y))\n",
        "\n",
        "# print solution\n",
        "print(solution)\n"
      ]
    },
    {
      "cell_type": "markdown",
      "source": [
        "\n",
        "**Program to solve quadratic equations**"
      ],
      "metadata": {
        "id": "H2I4wwlLuUQC"
      }
    },
    {
      "cell_type": "code",
      "source": [
        "import cmath\n",
        "\n",
        "# Function to solve quadratic equation\n",
        "def quadratic_equation_solver(a, b, c):\n",
        "    # calculate the discriminant\n",
        "    d = (b**2) - (4*a*c)\n",
        "\n",
        "    # find two solutions\n",
        "    solu1 = (-b-cmath.sqrt(d))/(2*a)\n",
        "    solu2 = (-b+cmath.sqrt(d))/(2*a)\n",
        "\n",
        "    # return solutions\n",
        "    return solu1, solu2\n",
        "\n",
        "# Example problem to solve\n",
        "a = 2\n",
        "b = -5\n",
        "c = 3\n",
        "\n",
        "# Solve quadratic equation\n",
        "sol1, sol2 = quadratic_equation_solver(a, b, c)\n",
        "\n",
        "# Print solutions\n",
        "print('The solutions to the quadratic equation are: {0} and {1}'.format(sol1, sol2))\n"
      ],
      "metadata": {
        "colab": {
          "base_uri": "https://localhost:8080/"
        },
        "id": "9QvUDXHxuT9x",
        "outputId": "397b34fc-77e7-416a-e54b-3fde4e712047"
      },
      "execution_count": 7,
      "outputs": [
        {
          "output_type": "stream",
          "name": "stdout",
          "text": [
            "The solutions to the quadratic equation are: (1+0j) and (1.5+0j)\n"
          ]
        }
      ]
    },
    {
      "cell_type": "markdown",
      "source": [
        "**Dispaly quadratic equation solutions step by step**"
      ],
      "metadata": {
        "id": "Ted5A5N_wj02"
      }
    },
    {
      "cell_type": "code",
      "source": [
        "import math\n",
        "\n",
        "# Function to solve quadratic equation and display steps\n",
        "def solve_quadratic_eq(a, b, c):\n",
        "    # Calculate the discriminant\n",
        "    discriminant = b**2 - 4*a*c\n",
        "    \n",
        "    # Check if the equation has real roots\n",
        "    if discriminant < 0:\n",
        "        print(\"This equation has no real roots\")\n",
        "        return\n",
        "    elif discriminant == 0:\n",
        "        x = -b / (2*a)\n",
        "        print(\"The solution is:\", x)\n",
        "        return\n",
        "    \n",
        "    # Calculate the two roots\n",
        "    root1 = (-b + math.sqrt(discriminant)) / (2*a)\n",
        "    root2 = (-b - math.sqrt(discriminant)) / (2*a)\n",
        "    \n",
        "    # Display the steps\n",
        "    print(\"The quadratic equation is: {}x^2 + {}x + {} = 0\".format(a, b, c))\n",
        "    print(\"Discriminant: b^2 - 4ac = {}^2 - 4({})({}) = {}\".format(b, a, c, discriminant))\n",
        "    print(\"Roots: x = (-b ± √(b^2 - 4ac)) / 2a\")\n",
        "    print(\"       x = (-{} ± √({}^2 - 4({})({}))) / 2({})\".format(b, b, a, c, a))\n",
        "    print(\"       x = ({:.2f}, {:.2f})\".format(root1, root2))\n",
        "    \n",
        "# Example problem to solve\n",
        "a = 1\n",
        "b = -7\n",
        "c = 10\n",
        "\n",
        "# Solve quadratic equation and display steps\n",
        "solve_quadratic_eq(a, b, c)\n"
      ],
      "metadata": {
        "colab": {
          "base_uri": "https://localhost:8080/"
        },
        "id": "Zr4m54mjwuIe",
        "outputId": "8d78c5a5-e1f4-4f98-fd73-55f6025aac95"
      },
      "execution_count": 6,
      "outputs": [
        {
          "output_type": "stream",
          "name": "stdout",
          "text": [
            "The quadratic equation is: 1x^2 + -7x + 10 = 0\n",
            "Discriminant: b^2 - 4ac = -7^2 - 4(1)(10) = 9\n",
            "Roots: x = (-b ± √(b^2 - 4ac)) / 2a\n",
            "       x = (--7 ± √(-7^2 - 4(1)(10))) / 2(1)\n",
            "       x = (5.00, 2.00)\n"
          ]
        }
      ]
    },
    {
      "cell_type": "markdown",
      "source": [
        "**Program to solve trigonometric solution**"
      ],
      "metadata": {
        "id": "MBMUmC4BxBVn"
      }
    },
    {
      "cell_type": "code",
      "source": [
        "# cos(x) / (1 - sin(x)) = sec(x) + cos(x)\n",
        "import math\n",
        "\n",
        "# Function to prove trigonometric identity\n",
        "def prove_trig_identity(x):\n",
        "    # Left-hand side of identity\n",
        "    lhs = math.cos(x) / (1 - math.sin(x))\n",
        "    \n",
        "    # Right-hand side of identity\n",
        "    rhs = 1 / math.cos(x) + 1 / math.sin(x)\n",
        "    \n",
        "    # Check if both sides are equal\n",
        "    if math.isclose(lhs, rhs, rel_tol=1e-9):\n",
        "        print(\"Identity proved!\")\n",
        "    else:\n",
        "        print(\"Identity not proved.\")\n",
        "        \n",
        "# Example value of x in radians\n",
        "x = math.pi / 6\n",
        "\n",
        "# Prove trigonometric identity\n",
        "prove_trig_identity(x)"
      ],
      "metadata": {
        "colab": {
          "base_uri": "https://localhost:8080/"
        },
        "id": "ASTOyPfhyWJW",
        "outputId": "4a003402-7016-4f54-d69b-5275226f35d1"
      },
      "execution_count": 8,
      "outputs": [
        {
          "output_type": "stream",
          "name": "stdout",
          "text": [
            "Identity not proved.\n"
          ]
        }
      ]
    },
    {
      "cell_type": "markdown",
      "source": [
        "**Work and time problem**"
      ],
      "metadata": {
        "id": "MwuRcPWY0Mv6"
      }
    },
    {
      "cell_type": "code",
      "source": [
        "# If three workers, A, B, and C, with work rates of 2, 3, and 5 units per hour, \n",
        "# respectively, are assigned to complete a total work of 2100 units, and worker \n",
        "# A works with worker B for 5 hours and worker B works with worker C for 4 hours, \n",
        "# how much work will each worker have completed at the end of the assignment?\n",
        "\n",
        "# Define the problem\n",
        "total_work = 2100\n",
        "work_rate_A = 2\n",
        "work_rate_B = 3\n",
        "work_rate_C = 5\n",
        "time_AB = 5\n",
        "time_BC = 4\n",
        "\n",
        "# Calculate the amount of work done by each worker\n",
        "work_done_AB = time_AB * (work_rate_A + work_rate_B)\n",
        "work_done_BC = time_BC * (work_rate_B + work_rate_C)\n",
        "\n",
        "# Calculate the remaining work\n",
        "remaining_work = total_work - work_done_AB - work_done_BC\n",
        "\n",
        "# Calculate the time taken by each worker to complete the remaining work\n",
        "time_taken_A = remaining_work / work_rate_A\n",
        "time_taken_B = remaining_work / work_rate_B\n",
        "time_taken_C = remaining_work / work_rate_C\n",
        "\n",
        "# Calculate the total time taken\n",
        "total_time = time_AB + time_BC + max(time_taken_A, time_taken_B, time_taken_C)\n",
        "\n",
        "# Print the results\n",
        "print(\"Time taken by worker A =\", time_taken_A, \"hours\")\n",
        "print(\"Time taken by worker B =\", time_taken_B, \"hours\")\n",
        "print(\"Time taken by worker C =\", time_taken_C, \"hours\")\n",
        "print(\"Total time taken =\", total_time, \"hours\")\n"
      ],
      "metadata": {
        "colab": {
          "base_uri": "https://localhost:8080/"
        },
        "id": "u3WrSomC0PSb",
        "outputId": "104187bc-d507-47d1-bbf4-99c0a578203f"
      },
      "execution_count": 11,
      "outputs": [
        {
          "output_type": "stream",
          "name": "stdout",
          "text": [
            "Time taken by worker A = 1021.5 hours\n",
            "Time taken by worker B = 681.0 hours\n",
            "Time taken by worker C = 408.6 hours\n",
            "Total time taken = 1030.5 hours\n"
          ]
        }
      ]
    },
    {
      "cell_type": "markdown",
      "source": [
        "**Program to solve geometry problem**"
      ],
      "metadata": {
        "id": "8Q8vVQIZ04CX"
      }
    },
    {
      "cell_type": "code",
      "source": [
        "# What is the area of a triangle with a base of 8 units and a height of 10 units?\n",
        "\n",
        "# Define the problem\n",
        "base = 8\n",
        "height = 10\n",
        "\n",
        "# Calculate the area of the triangle\n",
        "area = 0.5 * base * height\n",
        "\n",
        "# Calculate the perimeter of the triangle\n",
        "side_a = height\n",
        "side_b = ((base / 2) ** 2 + height ** 2) ** 0.5\n",
        "side_c = side_b\n",
        "perimeter = side_a + side_b + side_c\n",
        "\n",
        "# Print the results\n",
        "print(\"Area of the triangle =\", area)\n",
        "print(\"Perimeter of the triangle =\", perimeter)\n"
      ],
      "metadata": {
        "id": "-4IVfdnX069d"
      },
      "execution_count": null,
      "outputs": []
    },
    {
      "cell_type": "markdown",
      "source": [
        "### **For management students**"
      ],
      "metadata": {
        "id": "YWdpZOH9zZOC"
      }
    },
    {
      "cell_type": "markdown",
      "source": [
        "**Program to solve linear equation (Optimization problem)**"
      ],
      "metadata": {
        "id": "jKJ18KFXzfaq"
      }
    },
    {
      "cell_type": "code",
      "source": [
        "# What is the maximum revenue that can be obtained from selling two types of products,\n",
        "# x1 and x2, with unit profits of $12 and $8, respectively, subject to the following \n",
        "# constraints: the production of x1 cannot exceed 4000 units, the production of x2 \n",
        "# cannot exceed 2000 units, and the total production of x1 and x2 cannot exceed 12,000 units? \n",
        "# What are the optimal values of x1 and x2 that achieve this maximum revenue?\n",
        "\n",
        "!pip install pulp\n",
        "import pulp as lp\n",
        "\n",
        "# Define the problem\n",
        "prob = lp.LpProblem(\"Maximize Revenue\", lp.LpMaximize)\n",
        "\n",
        "# Define the decision variables\n",
        "x1 = lp.LpVariable(\"x1\", lowBound=0)\n",
        "x2 = lp.LpVariable(\"x2\", lowBound=0)\n",
        "\n",
        "# Define the objective function\n",
        "prob += 12 * x1 + 8 * x2\n",
        "\n",
        "# Define the constraints\n",
        "prob += x1 <= 4000\n",
        "prob += x2 <= 2000\n",
        "prob += 3 * x1 + 2 * x2 <= 12000\n",
        "\n",
        "# Solve the problem\n",
        "status = prob.solve()\n",
        "\n",
        "# Print the optimal values of the decision variables and the maximum revenue\n",
        "print(\"x1 =\", lp.value(x1))\n",
        "print(\"x2 =\", lp.value(x2))\n",
        "print(\"Maximum revenue = $\", lp.value(prob.objective))\n"
      ],
      "metadata": {
        "colab": {
          "base_uri": "https://localhost:8080/"
        },
        "id": "_SQHwegozuU0",
        "outputId": "99873ab7-7e36-4da9-cca1-a3b9bd2b1173"
      },
      "execution_count": 13,
      "outputs": [
        {
          "output_type": "stream",
          "name": "stdout",
          "text": [
            "Looking in indexes: https://pypi.org/simple, https://us-python.pkg.dev/colab-wheels/public/simple/\n",
            "Requirement already satisfied: pulp in /usr/local/lib/python3.9/dist-packages (2.7.0)\n",
            "x1 = 4000.0\n",
            "x2 = 0.0\n",
            "Maximum revenue = $ 48000.0\n"
          ]
        }
      ]
    },
    {
      "cell_type": "markdown",
      "source": [
        "**Program to solve simple interest problem**"
      ],
      "metadata": {
        "id": "gd1zb-RP0FUV"
      }
    },
    {
      "cell_type": "code",
      "source": [
        "# If you deposit $10,000 into a savings account with an annual interest rate of 5%, \n",
        "# compounded annually, how much money will you have in the account after 3 years?\n",
        "\n",
        "# Define the problem\n",
        "principal = 10000\n",
        "interest_rate = 0.05\n",
        "time = 3\n",
        "\n",
        "# Calculate the simple interest\n",
        "simple_interest = principal * interest_rate * time\n",
        "\n",
        "# Calculate the total amount\n",
        "total_amount = principal + simple_interest\n",
        "\n",
        "# Print the results\n",
        "print(\"Simple interest =\", simple_interest)\n",
        "print(\"Total amount =\", total_amount)\n"
      ],
      "metadata": {
        "colab": {
          "base_uri": "https://localhost:8080/"
        },
        "id": "hOakn1-GzvKo",
        "outputId": "6d10c9ca-5349-496c-e65a-53f2b611d0d0"
      },
      "execution_count": 14,
      "outputs": [
        {
          "output_type": "stream",
          "name": "stdout",
          "text": [
            "Simple interest = 1500.0\n",
            "Total amount = 11500.0\n"
          ]
        }
      ]
    },
    {
      "cell_type": "markdown",
      "source": [
        "**Program to solve debit and credit problem**"
      ],
      "metadata": {
        "id": "4Mh1GLZM3Ack"
      }
    },
    {
      "cell_type": "code",
      "source": [
        "# Define the transactions\n",
        "transactions = [\n",
        "    ('A', 'debit', 100),\n",
        "    ('B', 'credit', 50),\n",
        "    ('C', 'debit', 75),\n",
        "    ('D', 'credit', 25)\n",
        "]\n",
        "\n",
        "# Initialize the balances\n",
        "debit_balance = 0\n",
        "credit_balance = 0\n",
        "\n",
        "# Create the table header\n",
        "print(\"{:<10} {:<10} {:<10}\".format('Account', 'Debit', 'Credit'))\n",
        "\n",
        "# Loop through the transactions and update the balances\n",
        "for account, transaction_type, amount in transactions:\n",
        "    if transaction_type == 'debit':\n",
        "        debit_balance += amount\n",
        "        print(\"{:<10} {:<10} {:<10}\".format(account, amount, ''))\n",
        "    elif transaction_type == 'credit':\n",
        "        credit_balance += amount\n",
        "        print(\"{:<10} {:<10} {:<10}\".format(account, '', amount))\n",
        "\n",
        "# Add the final balances to the table\n",
        "print(\"{:<10} {:<10} {:<10}\".format('Total', debit_balance, credit_balance))\n"
      ],
      "metadata": {
        "colab": {
          "base_uri": "https://localhost:8080/"
        },
        "id": "uMIbym082-Pk",
        "outputId": "1e6bb481-b09f-4cdb-af0d-11b6e76b9a7b"
      },
      "execution_count": 15,
      "outputs": [
        {
          "output_type": "stream",
          "name": "stdout",
          "text": [
            "Account    Debit      Credit    \n",
            "A          100                  \n",
            "B                     50        \n",
            "C          75                   \n",
            "D                     25        \n",
            "Total      175        75        \n"
          ]
        }
      ]
    },
    {
      "cell_type": "markdown",
      "source": [
        "**Program to solve problem of finding frequent item purchased**\n"
      ],
      "metadata": {
        "id": "JM5riuc68Fjc"
      }
    },
    {
      "cell_type": "code",
      "source": [
        "from google.colab import files\n",
        "import pandas as pd\n",
        "uploaded = files.upload()\n",
        "\n",
        "# Load the dataset\n",
        "data = pd.read_csv('electronics_dataset.csv')\n",
        "\n",
        "# Count the number of purchases for each item\n",
        "counts = data['Item'].value_counts()\n",
        "\n",
        "# Get the name of the most purchased item\n",
        "most_purchased = counts.index[0]\n",
        "\n",
        "# Print the result\n",
        "print(f\"The most purchased item is {most_purchased}\")"
      ],
      "metadata": {
        "colab": {
          "base_uri": "https://localhost:8080/",
          "height": 90
        },
        "id": "o9o17xyO8iwx",
        "outputId": "f3034b6f-edb5-48ee-a2cf-4394882c18d7"
      },
      "execution_count": 36,
      "outputs": [
        {
          "output_type": "display_data",
          "data": {
            "text/plain": [
              "<IPython.core.display.HTML object>"
            ],
            "text/html": [
              "\n",
              "     <input type=\"file\" id=\"files-5e1d68d3-1b0e-455b-972e-11f422a2fb0f\" name=\"files[]\" multiple disabled\n",
              "        style=\"border:none\" />\n",
              "     <output id=\"result-5e1d68d3-1b0e-455b-972e-11f422a2fb0f\">\n",
              "      Upload widget is only available when the cell has been executed in the\n",
              "      current browser session. Please rerun this cell to enable.\n",
              "      </output>\n",
              "      <script>// Copyright 2017 Google LLC\n",
              "//\n",
              "// Licensed under the Apache License, Version 2.0 (the \"License\");\n",
              "// you may not use this file except in compliance with the License.\n",
              "// You may obtain a copy of the License at\n",
              "//\n",
              "//      http://www.apache.org/licenses/LICENSE-2.0\n",
              "//\n",
              "// Unless required by applicable law or agreed to in writing, software\n",
              "// distributed under the License is distributed on an \"AS IS\" BASIS,\n",
              "// WITHOUT WARRANTIES OR CONDITIONS OF ANY KIND, either express or implied.\n",
              "// See the License for the specific language governing permissions and\n",
              "// limitations under the License.\n",
              "\n",
              "/**\n",
              " * @fileoverview Helpers for google.colab Python module.\n",
              " */\n",
              "(function(scope) {\n",
              "function span(text, styleAttributes = {}) {\n",
              "  const element = document.createElement('span');\n",
              "  element.textContent = text;\n",
              "  for (const key of Object.keys(styleAttributes)) {\n",
              "    element.style[key] = styleAttributes[key];\n",
              "  }\n",
              "  return element;\n",
              "}\n",
              "\n",
              "// Max number of bytes which will be uploaded at a time.\n",
              "const MAX_PAYLOAD_SIZE = 100 * 1024;\n",
              "\n",
              "function _uploadFiles(inputId, outputId) {\n",
              "  const steps = uploadFilesStep(inputId, outputId);\n",
              "  const outputElement = document.getElementById(outputId);\n",
              "  // Cache steps on the outputElement to make it available for the next call\n",
              "  // to uploadFilesContinue from Python.\n",
              "  outputElement.steps = steps;\n",
              "\n",
              "  return _uploadFilesContinue(outputId);\n",
              "}\n",
              "\n",
              "// This is roughly an async generator (not supported in the browser yet),\n",
              "// where there are multiple asynchronous steps and the Python side is going\n",
              "// to poll for completion of each step.\n",
              "// This uses a Promise to block the python side on completion of each step,\n",
              "// then passes the result of the previous step as the input to the next step.\n",
              "function _uploadFilesContinue(outputId) {\n",
              "  const outputElement = document.getElementById(outputId);\n",
              "  const steps = outputElement.steps;\n",
              "\n",
              "  const next = steps.next(outputElement.lastPromiseValue);\n",
              "  return Promise.resolve(next.value.promise).then((value) => {\n",
              "    // Cache the last promise value to make it available to the next\n",
              "    // step of the generator.\n",
              "    outputElement.lastPromiseValue = value;\n",
              "    return next.value.response;\n",
              "  });\n",
              "}\n",
              "\n",
              "/**\n",
              " * Generator function which is called between each async step of the upload\n",
              " * process.\n",
              " * @param {string} inputId Element ID of the input file picker element.\n",
              " * @param {string} outputId Element ID of the output display.\n",
              " * @return {!Iterable<!Object>} Iterable of next steps.\n",
              " */\n",
              "function* uploadFilesStep(inputId, outputId) {\n",
              "  const inputElement = document.getElementById(inputId);\n",
              "  inputElement.disabled = false;\n",
              "\n",
              "  const outputElement = document.getElementById(outputId);\n",
              "  outputElement.innerHTML = '';\n",
              "\n",
              "  const pickedPromise = new Promise((resolve) => {\n",
              "    inputElement.addEventListener('change', (e) => {\n",
              "      resolve(e.target.files);\n",
              "    });\n",
              "  });\n",
              "\n",
              "  const cancel = document.createElement('button');\n",
              "  inputElement.parentElement.appendChild(cancel);\n",
              "  cancel.textContent = 'Cancel upload';\n",
              "  const cancelPromise = new Promise((resolve) => {\n",
              "    cancel.onclick = () => {\n",
              "      resolve(null);\n",
              "    };\n",
              "  });\n",
              "\n",
              "  // Wait for the user to pick the files.\n",
              "  const files = yield {\n",
              "    promise: Promise.race([pickedPromise, cancelPromise]),\n",
              "    response: {\n",
              "      action: 'starting',\n",
              "    }\n",
              "  };\n",
              "\n",
              "  cancel.remove();\n",
              "\n",
              "  // Disable the input element since further picks are not allowed.\n",
              "  inputElement.disabled = true;\n",
              "\n",
              "  if (!files) {\n",
              "    return {\n",
              "      response: {\n",
              "        action: 'complete',\n",
              "      }\n",
              "    };\n",
              "  }\n",
              "\n",
              "  for (const file of files) {\n",
              "    const li = document.createElement('li');\n",
              "    li.append(span(file.name, {fontWeight: 'bold'}));\n",
              "    li.append(span(\n",
              "        `(${file.type || 'n/a'}) - ${file.size} bytes, ` +\n",
              "        `last modified: ${\n",
              "            file.lastModifiedDate ? file.lastModifiedDate.toLocaleDateString() :\n",
              "                                    'n/a'} - `));\n",
              "    const percent = span('0% done');\n",
              "    li.appendChild(percent);\n",
              "\n",
              "    outputElement.appendChild(li);\n",
              "\n",
              "    const fileDataPromise = new Promise((resolve) => {\n",
              "      const reader = new FileReader();\n",
              "      reader.onload = (e) => {\n",
              "        resolve(e.target.result);\n",
              "      };\n",
              "      reader.readAsArrayBuffer(file);\n",
              "    });\n",
              "    // Wait for the data to be ready.\n",
              "    let fileData = yield {\n",
              "      promise: fileDataPromise,\n",
              "      response: {\n",
              "        action: 'continue',\n",
              "      }\n",
              "    };\n",
              "\n",
              "    // Use a chunked sending to avoid message size limits. See b/62115660.\n",
              "    let position = 0;\n",
              "    do {\n",
              "      const length = Math.min(fileData.byteLength - position, MAX_PAYLOAD_SIZE);\n",
              "      const chunk = new Uint8Array(fileData, position, length);\n",
              "      position += length;\n",
              "\n",
              "      const base64 = btoa(String.fromCharCode.apply(null, chunk));\n",
              "      yield {\n",
              "        response: {\n",
              "          action: 'append',\n",
              "          file: file.name,\n",
              "          data: base64,\n",
              "        },\n",
              "      };\n",
              "\n",
              "      let percentDone = fileData.byteLength === 0 ?\n",
              "          100 :\n",
              "          Math.round((position / fileData.byteLength) * 100);\n",
              "      percent.textContent = `${percentDone}% done`;\n",
              "\n",
              "    } while (position < fileData.byteLength);\n",
              "  }\n",
              "\n",
              "  // All done.\n",
              "  yield {\n",
              "    response: {\n",
              "      action: 'complete',\n",
              "    }\n",
              "  };\n",
              "}\n",
              "\n",
              "scope.google = scope.google || {};\n",
              "scope.google.colab = scope.google.colab || {};\n",
              "scope.google.colab._files = {\n",
              "  _uploadFiles,\n",
              "  _uploadFilesContinue,\n",
              "};\n",
              "})(self);\n",
              "</script> "
            ]
          },
          "metadata": {}
        },
        {
          "output_type": "stream",
          "name": "stdout",
          "text": [
            "Saving electronics_dataset.csv to electronics_dataset.csv\n",
            "The most purchased item is Laptop\n"
          ]
        }
      ]
    },
    {
      "cell_type": "markdown",
      "source": [
        "### **Other general problems**"
      ],
      "metadata": {
        "id": "AW98eFr-8Cum"
      }
    },
    {
      "cell_type": "markdown",
      "source": [
        "**Program to find total money collected in piggy bank**"
      ],
      "metadata": {
        "id": "1arLEKM6FvMr"
      }
    },
    {
      "cell_type": "code",
      "source": [
        "import os\n",
        "from google.colab import files\n",
        "uploaded = files.upload()\n",
        "\n",
        "# Define the file name for the total amount\n",
        "file_name = 'piggy_bank.txt'\n",
        "\n",
        "# Check if the file exists and restore the total amount if it does\n",
        "if os.path.exists(file_name):\n",
        "    with open(file_name, 'r') as f:\n",
        "        total_amount = float(f.read())\n",
        "else:\n",
        "    total_amount = 0\n",
        "\n",
        "# Loop to collect money\n",
        "while True:\n",
        "    # Ask for the amount to add\n",
        "    amount = input(\"Enter the amount to add (or 'q' to quit): \")\n",
        "    \n",
        "    # Check if the user wants to quit\n",
        "    if amount.lower() == 'q':\n",
        "        break\n",
        "    \n",
        "    # Add the amount to the total\n",
        "    total_amount += float(amount)\n",
        "    \n",
        "    # Print the new total amount\n",
        "    print(\"Total amount collected: \", total_amount)\n",
        "    \n",
        "    # Save the total amount to the file\n",
        "    with open(file_name, 'w') as f:\n",
        "        f.write(str(total_amount))\n",
        "\n",
        "# Print the final total amount\n",
        "print(\"Final total amount collected: \", total_amount)\n",
        "\n",
        "# Download the file\n",
        "files.download(file_name)"
      ],
      "metadata": {
        "colab": {
          "base_uri": "https://localhost:8080/",
          "height": 212
        },
        "id": "V2sYKSMOFu92",
        "outputId": "41d7ccac-76d7-4070-f2e4-63c90927d5c7"
      },
      "execution_count": 38,
      "outputs": [
        {
          "output_type": "display_data",
          "data": {
            "text/plain": [
              "<IPython.core.display.HTML object>"
            ],
            "text/html": [
              "\n",
              "     <input type=\"file\" id=\"files-90815146-712c-4fb9-8fa6-08d7be0d9a8f\" name=\"files[]\" multiple disabled\n",
              "        style=\"border:none\" />\n",
              "     <output id=\"result-90815146-712c-4fb9-8fa6-08d7be0d9a8f\">\n",
              "      Upload widget is only available when the cell has been executed in the\n",
              "      current browser session. Please rerun this cell to enable.\n",
              "      </output>\n",
              "      <script>// Copyright 2017 Google LLC\n",
              "//\n",
              "// Licensed under the Apache License, Version 2.0 (the \"License\");\n",
              "// you may not use this file except in compliance with the License.\n",
              "// You may obtain a copy of the License at\n",
              "//\n",
              "//      http://www.apache.org/licenses/LICENSE-2.0\n",
              "//\n",
              "// Unless required by applicable law or agreed to in writing, software\n",
              "// distributed under the License is distributed on an \"AS IS\" BASIS,\n",
              "// WITHOUT WARRANTIES OR CONDITIONS OF ANY KIND, either express or implied.\n",
              "// See the License for the specific language governing permissions and\n",
              "// limitations under the License.\n",
              "\n",
              "/**\n",
              " * @fileoverview Helpers for google.colab Python module.\n",
              " */\n",
              "(function(scope) {\n",
              "function span(text, styleAttributes = {}) {\n",
              "  const element = document.createElement('span');\n",
              "  element.textContent = text;\n",
              "  for (const key of Object.keys(styleAttributes)) {\n",
              "    element.style[key] = styleAttributes[key];\n",
              "  }\n",
              "  return element;\n",
              "}\n",
              "\n",
              "// Max number of bytes which will be uploaded at a time.\n",
              "const MAX_PAYLOAD_SIZE = 100 * 1024;\n",
              "\n",
              "function _uploadFiles(inputId, outputId) {\n",
              "  const steps = uploadFilesStep(inputId, outputId);\n",
              "  const outputElement = document.getElementById(outputId);\n",
              "  // Cache steps on the outputElement to make it available for the next call\n",
              "  // to uploadFilesContinue from Python.\n",
              "  outputElement.steps = steps;\n",
              "\n",
              "  return _uploadFilesContinue(outputId);\n",
              "}\n",
              "\n",
              "// This is roughly an async generator (not supported in the browser yet),\n",
              "// where there are multiple asynchronous steps and the Python side is going\n",
              "// to poll for completion of each step.\n",
              "// This uses a Promise to block the python side on completion of each step,\n",
              "// then passes the result of the previous step as the input to the next step.\n",
              "function _uploadFilesContinue(outputId) {\n",
              "  const outputElement = document.getElementById(outputId);\n",
              "  const steps = outputElement.steps;\n",
              "\n",
              "  const next = steps.next(outputElement.lastPromiseValue);\n",
              "  return Promise.resolve(next.value.promise).then((value) => {\n",
              "    // Cache the last promise value to make it available to the next\n",
              "    // step of the generator.\n",
              "    outputElement.lastPromiseValue = value;\n",
              "    return next.value.response;\n",
              "  });\n",
              "}\n",
              "\n",
              "/**\n",
              " * Generator function which is called between each async step of the upload\n",
              " * process.\n",
              " * @param {string} inputId Element ID of the input file picker element.\n",
              " * @param {string} outputId Element ID of the output display.\n",
              " * @return {!Iterable<!Object>} Iterable of next steps.\n",
              " */\n",
              "function* uploadFilesStep(inputId, outputId) {\n",
              "  const inputElement = document.getElementById(inputId);\n",
              "  inputElement.disabled = false;\n",
              "\n",
              "  const outputElement = document.getElementById(outputId);\n",
              "  outputElement.innerHTML = '';\n",
              "\n",
              "  const pickedPromise = new Promise((resolve) => {\n",
              "    inputElement.addEventListener('change', (e) => {\n",
              "      resolve(e.target.files);\n",
              "    });\n",
              "  });\n",
              "\n",
              "  const cancel = document.createElement('button');\n",
              "  inputElement.parentElement.appendChild(cancel);\n",
              "  cancel.textContent = 'Cancel upload';\n",
              "  const cancelPromise = new Promise((resolve) => {\n",
              "    cancel.onclick = () => {\n",
              "      resolve(null);\n",
              "    };\n",
              "  });\n",
              "\n",
              "  // Wait for the user to pick the files.\n",
              "  const files = yield {\n",
              "    promise: Promise.race([pickedPromise, cancelPromise]),\n",
              "    response: {\n",
              "      action: 'starting',\n",
              "    }\n",
              "  };\n",
              "\n",
              "  cancel.remove();\n",
              "\n",
              "  // Disable the input element since further picks are not allowed.\n",
              "  inputElement.disabled = true;\n",
              "\n",
              "  if (!files) {\n",
              "    return {\n",
              "      response: {\n",
              "        action: 'complete',\n",
              "      }\n",
              "    };\n",
              "  }\n",
              "\n",
              "  for (const file of files) {\n",
              "    const li = document.createElement('li');\n",
              "    li.append(span(file.name, {fontWeight: 'bold'}));\n",
              "    li.append(span(\n",
              "        `(${file.type || 'n/a'}) - ${file.size} bytes, ` +\n",
              "        `last modified: ${\n",
              "            file.lastModifiedDate ? file.lastModifiedDate.toLocaleDateString() :\n",
              "                                    'n/a'} - `));\n",
              "    const percent = span('0% done');\n",
              "    li.appendChild(percent);\n",
              "\n",
              "    outputElement.appendChild(li);\n",
              "\n",
              "    const fileDataPromise = new Promise((resolve) => {\n",
              "      const reader = new FileReader();\n",
              "      reader.onload = (e) => {\n",
              "        resolve(e.target.result);\n",
              "      };\n",
              "      reader.readAsArrayBuffer(file);\n",
              "    });\n",
              "    // Wait for the data to be ready.\n",
              "    let fileData = yield {\n",
              "      promise: fileDataPromise,\n",
              "      response: {\n",
              "        action: 'continue',\n",
              "      }\n",
              "    };\n",
              "\n",
              "    // Use a chunked sending to avoid message size limits. See b/62115660.\n",
              "    let position = 0;\n",
              "    do {\n",
              "      const length = Math.min(fileData.byteLength - position, MAX_PAYLOAD_SIZE);\n",
              "      const chunk = new Uint8Array(fileData, position, length);\n",
              "      position += length;\n",
              "\n",
              "      const base64 = btoa(String.fromCharCode.apply(null, chunk));\n",
              "      yield {\n",
              "        response: {\n",
              "          action: 'append',\n",
              "          file: file.name,\n",
              "          data: base64,\n",
              "        },\n",
              "      };\n",
              "\n",
              "      let percentDone = fileData.byteLength === 0 ?\n",
              "          100 :\n",
              "          Math.round((position / fileData.byteLength) * 100);\n",
              "      percent.textContent = `${percentDone}% done`;\n",
              "\n",
              "    } while (position < fileData.byteLength);\n",
              "  }\n",
              "\n",
              "  // All done.\n",
              "  yield {\n",
              "    response: {\n",
              "      action: 'complete',\n",
              "    }\n",
              "  };\n",
              "}\n",
              "\n",
              "scope.google = scope.google || {};\n",
              "scope.google.colab = scope.google.colab || {};\n",
              "scope.google.colab._files = {\n",
              "  _uploadFiles,\n",
              "  _uploadFilesContinue,\n",
              "};\n",
              "})(self);\n",
              "</script> "
            ]
          },
          "metadata": {}
        },
        {
          "output_type": "stream",
          "name": "stdout",
          "text": [
            "Saving piggy_bank.txt.txt to piggy_bank.txt.txt\n",
            "Enter the amount to add (or 'q' to quit): 500\n",
            "Total amount collected:  500.0\n",
            "Enter the amount to add (or 'q' to quit): 600\n",
            "Total amount collected:  1100.0\n",
            "Enter the amount to add (or 'q' to quit): 6000\n",
            "Total amount collected:  7100.0\n",
            "Enter the amount to add (or 'q' to quit): q\n",
            "Final total amount collected:  7100.0\n"
          ]
        },
        {
          "output_type": "display_data",
          "data": {
            "text/plain": [
              "<IPython.core.display.Javascript object>"
            ],
            "application/javascript": [
              "\n",
              "    async function download(id, filename, size) {\n",
              "      if (!google.colab.kernel.accessAllowed) {\n",
              "        return;\n",
              "      }\n",
              "      const div = document.createElement('div');\n",
              "      const label = document.createElement('label');\n",
              "      label.textContent = `Downloading \"${filename}\": `;\n",
              "      div.appendChild(label);\n",
              "      const progress = document.createElement('progress');\n",
              "      progress.max = size;\n",
              "      div.appendChild(progress);\n",
              "      document.body.appendChild(div);\n",
              "\n",
              "      const buffers = [];\n",
              "      let downloaded = 0;\n",
              "\n",
              "      const channel = await google.colab.kernel.comms.open(id);\n",
              "      // Send a message to notify the kernel that we're ready.\n",
              "      channel.send({})\n",
              "\n",
              "      for await (const message of channel.messages) {\n",
              "        // Send a message to notify the kernel that we're ready.\n",
              "        channel.send({})\n",
              "        if (message.buffers) {\n",
              "          for (const buffer of message.buffers) {\n",
              "            buffers.push(buffer);\n",
              "            downloaded += buffer.byteLength;\n",
              "            progress.value = downloaded;\n",
              "          }\n",
              "        }\n",
              "      }\n",
              "      const blob = new Blob(buffers, {type: 'application/binary'});\n",
              "      const a = document.createElement('a');\n",
              "      a.href = window.URL.createObjectURL(blob);\n",
              "      a.download = filename;\n",
              "      div.appendChild(a);\n",
              "      a.click();\n",
              "      div.remove();\n",
              "    }\n",
              "  "
            ]
          },
          "metadata": {}
        },
        {
          "output_type": "display_data",
          "data": {
            "text/plain": [
              "<IPython.core.display.Javascript object>"
            ],
            "application/javascript": [
              "download(\"download_c811dd37-7e48-4951-8819-7756d8d28fc6\", \"piggy_bank.txt\", 6)"
            ]
          },
          "metadata": {}
        }
      ]
    },
    {
      "cell_type": "markdown",
      "source": [
        "**Program to create remainder of projects**"
      ],
      "metadata": {
        "id": "mFpBX9QfH8lm"
      }
    },
    {
      "cell_type": "code",
      "source": [
        "import datetime\n",
        "import time\n",
        "\n",
        "# Define the events and their dates\n",
        "events = {\n",
        "    'Birthday': datetime.datetime(2024, 3, 29, 12, 35),\n",
        "    'Anniversary': datetime.datetime(2023, 12, 15, 18, 0),\n",
        "    'Meeting': datetime.datetime(2023, 9, 1, 14, 30)\n",
        "}\n",
        "\n",
        "# Loop through the events and send reminders\n",
        "for event, date in events.items():\n",
        "    # Calculate the time remaining until the event\n",
        "    time_remaining = (date - datetime.datetime.now()).total_seconds()\n",
        "    hours = time_remaining// 3600\n",
        "    days = hours//24\n",
        "    minutes = (time_remaining % 3600) // 60\n",
        "\n",
        "    # Send the reminder\n",
        "    print(f\"Reminder: {event} is happening ! {days} days, {hours} hours and {minutes} minutes\")\n"
      ],
      "metadata": {
        "colab": {
          "base_uri": "https://localhost:8080/"
        },
        "id": "DC6fPpuUFtGf",
        "outputId": "45051536-7886-4e72-db50-943150d118d1"
      },
      "execution_count": 44,
      "outputs": [
        {
          "output_type": "stream",
          "name": "stdout",
          "text": [
            "Reminder: Birthday is happening ! 366.0 days, 8789.0 hours and 39.0 minutes\n",
            "Reminder: Anniversary is happening ! 261.0 days, 6275.0 hours and 4.0 minutes\n",
            "Reminder: Meeting is happening ! 156.0 days, 3751.0 hours and 34.0 minutes\n"
          ]
        }
      ]
    },
    {
      "cell_type": "markdown",
      "source": [],
      "metadata": {
        "id": "gdEDPzQIFsaY"
      }
    }
  ]
}