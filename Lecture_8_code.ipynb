{
  "nbformat": 4,
  "nbformat_minor": 0,
  "metadata": {
    "colab": {
      "provenance": []
    },
    "kernelspec": {
      "name": "python3",
      "display_name": "Python 3"
    },
    "language_info": {
      "name": "python"
    }
  },
  "cells": [
    {
      "cell_type": "markdown",
      "source": [
        "Conditional branching in python"
      ],
      "metadata": {
        "id": "IvARYFD20KwQ"
      }
    },
    {
      "cell_type": "markdown",
      "source": [
        "If and If else condition"
      ],
      "metadata": {
        "id": "ybnJgVXb0Stz"
      }
    },
    {
      "cell_type": "code",
      "execution_count": 3,
      "metadata": {
        "id": "ik-ayE9sWANM",
        "colab": {
          "base_uri": "https://localhost:8080/"
        },
        "outputId": "dbeb432c-3462-4cd5-ee7a-fd17eb46e6d3"
      },
      "outputs": [
        {
          "output_type": "stream",
          "name": "stdout",
          "text": [
            "Enter a number: 3\n",
            "Number is odd\n"
          ]
        }
      ],
      "source": [
        "#check if a number is even or odd\n",
        "number=int(input(\"Enter a number: \"))\n",
        "if number%2==0:\n",
        "  print(\"Number is even\")\n",
        "else:\n",
        "  print(\"Number is odd\")"
      ]
    },
    {
      "cell_type": "code",
      "source": [
        "# check if a person is eligible to vote\n",
        "age=int(input('Enter your age: '))\n",
        "if age>=18:\n",
        "  print(\"You are eligible to vote\")\n",
        "\n",
        "else:\n",
        "  print(\"You can vote only after you reach 18\")"
      ],
      "metadata": {
        "id": "r9ExrvtF0U4A",
        "colab": {
          "base_uri": "https://localhost:8080/"
        },
        "outputId": "7847a37b-4831-49bc-cc80-5f8784f1b1f0"
      },
      "execution_count": 6,
      "outputs": [
        {
          "output_type": "stream",
          "name": "stdout",
          "text": [
            "Enter your age: 18\n",
            "You can vote only after you reach 18\n"
          ]
        }
      ]
    },
    {
      "cell_type": "markdown",
      "source": [
        "Elif"
      ],
      "metadata": {
        "id": "9OG6egUr0eaP"
      }
    },
    {
      "cell_type": "code",
      "source": [
        "#  check if a number is positive or negative\n",
        "number=float(input(\"enter a number: \"))\n",
        "if number>0:\n",
        "  print(\"Number is positive\")\n",
        "elif number<0:\n",
        "  print(\"Number is negative\")\n",
        "else:\n",
        "  print(\"Number is zero\")"
      ],
      "metadata": {
        "id": "3lq7Y1Lq0yJP",
        "colab": {
          "base_uri": "https://localhost:8080/"
        },
        "outputId": "ed7f7830-6e70-49a8-dea3-b9eaddce70cb"
      },
      "execution_count": 10,
      "outputs": [
        {
          "output_type": "stream",
          "name": "stdout",
          "text": [
            "enter a number: 0\n",
            "Number os zero\n"
          ]
        }
      ]
    },
    {
      "cell_type": "markdown",
      "source": [
        "### **Iteration**"
      ],
      "metadata": {
        "id": "V-MqbmeB7oRW"
      }
    },
    {
      "cell_type": "markdown",
      "source": [
        "For loop"
      ],
      "metadata": {
        "id": "GRPBrn_q7rqM"
      }
    },
    {
      "cell_type": "code",
      "source": [
        "# create multiplication table\n",
        "number=int(input(\"Enter number that you want to get muliplication table: \"))\n",
        "number_2=int(input(\"Limit of multiplication:\"))\n",
        "for mul in range(1,number_2+1):\n",
        "  print(str(number)+\"X\"+str(mul)+\"=\"+str(number*mul))"
      ],
      "metadata": {
        "id": "XUgz1YZF7te4",
        "colab": {
          "base_uri": "https://localhost:8080/"
        },
        "outputId": "ab00d2c0-82df-45ed-9e2f-b4a347bd7aeb"
      },
      "execution_count": 14,
      "outputs": [
        {
          "output_type": "stream",
          "name": "stdout",
          "text": [
            "Enter number that you want to get muliplication table: 2\n",
            "Limit of multiplication:10\n",
            "2X1=2\n",
            "2X2=4\n",
            "2X3=6\n",
            "2X4=8\n",
            "2X5=10\n",
            "2X6=12\n",
            "2X7=14\n",
            "2X8=16\n",
            "2X9=18\n",
            "2X10=20\n"
          ]
        }
      ]
    },
    {
      "cell_type": "markdown",
      "source": [
        "While loop"
      ],
      "metadata": {
        "id": "awKM5agK737p"
      }
    },
    {
      "cell_type": "code",
      "source": [
        "# ask the user for input until they enter a value that can be converted to an integer\n",
        "while True:\n",
        "  user_input=input('Enter a number')\n",
        "  if user_input.isdigit():\n",
        "    num=int(user_input)\n",
        "    print(\"You entered:\",num)\n",
        "    break\n",
        "  else:\n",
        "    print(\"Invalid input. Please enter integer\")"
      ],
      "metadata": {
        "id": "2cpPWfMx72cn",
        "colab": {
          "base_uri": "https://localhost:8080/"
        },
        "outputId": "ecda5ac3-ba28-49ff-e431-9455dd7fc380"
      },
      "execution_count": 17,
      "outputs": [
        {
          "output_type": "stream",
          "name": "stdout",
          "text": [
            "Enter a numbera\n",
            "Invalid input. Please enter integer\n",
            "Enter a numberab\n",
            "Invalid input. Please enter integer\n",
            "Enter a number12\n",
            "You entered: 12\n"
          ]
        }
      ]
    },
    {
      "cell_type": "code",
      "source": [],
      "metadata": {
        "id": "uhGatipiCGiH"
      },
      "execution_count": 16,
      "outputs": []
    }
  ]
}