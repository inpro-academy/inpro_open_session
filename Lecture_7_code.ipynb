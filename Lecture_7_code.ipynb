{
  "nbformat": 4,
  "nbformat_minor": 0,
  "metadata": {
    "colab": {
      "provenance": []
    },
    "kernelspec": {
      "name": "python3",
      "display_name": "Python 3"
    },
    "language_info": {
      "name": "python"
    }
  },
  "cells": [
    {
      "cell_type": "markdown",
      "source": [
        "### **Logical Operations**"
      ],
      "metadata": {
        "id": "eAlkQdVMWHgm"
      }
    },
    {
      "cell_type": "markdown",
      "source": [
        "OR Operator"
      ],
      "metadata": {
        "id": "od6TWO-oXzpN"
      }
    },
    {
      "cell_type": "code",
      "execution_count": 2,
      "metadata": {
        "colab": {
          "base_uri": "https://localhost:8080/"
        },
        "id": "ce6hGkP0V9fH",
        "outputId": "48049b12-f919-4063-f6ae-ca0460b1594b"
      },
      "outputs": [
        {
          "output_type": "stream",
          "name": "stdout",
          "text": [
            "You need to collect either sword or bow\n"
          ]
        }
      ],
      "source": [
        "#Suppose you are developing a game and you want to check if the player has collected either of two important items in order to progress to the next level.\n",
        "# Two items are sword and bow\n",
        "\n",
        "collected_item=['sword','bow','gun','stick']\n",
        "\n",
        "if\"sword\" in collected_item or \"bow\" in collected_item:\n",
        "  print(\"You can now move to next level\")\n",
        "else:\n",
        "  print(\"You need to collect either sword or bow\")"
      ]
    },
    {
      "cell_type": "markdown",
      "source": [
        "AND Operator"
      ],
      "metadata": {
        "id": "cw-gIen3YijU"
      }
    },
    {
      "cell_type": "code",
      "source": [
        "collected_item=['sword','gun','stick']\n",
        "\n",
        "if\"sword\" in collected_item and \"bow\" in collected_item:\n",
        "  print(\"You can now move to next level\")\n",
        "else:\n",
        "  print(\"You need to collect both sword and bow\")"
      ],
      "metadata": {
        "colab": {
          "base_uri": "https://localhost:8080/"
        },
        "id": "sFO0alaXb2HE",
        "outputId": "dd685ab6-5a8a-4713-caa8-4b812f51ce78"
      },
      "execution_count": 4,
      "outputs": [
        {
          "output_type": "stream",
          "name": "stdout",
          "text": [
            "You need to collect either sword or bow\n"
          ]
        }
      ]
    },
    {
      "cell_type": "code",
      "source": [
        "#Validate username and password\n",
        "username=\"bijay\"\n",
        "password=\"1234\"\n",
        "\n",
        "user=input(\"Enter username:\")\n",
        "passwd=input('Enter password:')\n",
        "\n",
        "if user==username and passwd==password:\n",
        "  print(\"SUccessfully login\")\n",
        "else:\n",
        "  print(\"Username or password is incorrect\")"
      ],
      "metadata": {
        "colab": {
          "base_uri": "https://localhost:8080/"
        },
        "id": "8nDeAC4nX3vi",
        "outputId": "abe61456-858c-4893-b0a1-a46406889ad5"
      },
      "execution_count": 6,
      "outputs": [
        {
          "output_type": "stream",
          "name": "stdout",
          "text": [
            "Enter username:sabin\n",
            "Enter password:123\n",
            "Username or password is incorrect\n"
          ]
        }
      ]
    },
    {
      "cell_type": "markdown",
      "source": [
        "NOT Operator"
      ],
      "metadata": {
        "id": "ewp9nCk6YlWc"
      }
    },
    {
      "cell_type": "code",
      "source": [
        "# Dont allow player to have sword again\n",
        "collected_item=['bow','gun','stick']\n",
        "\n",
        "if not 'sword' in collected_item:\n",
        "  print('Sword collected')\n",
        "else:\n",
        "  print(\"Sword is already in basket\")"
      ],
      "metadata": {
        "colab": {
          "base_uri": "https://localhost:8080/"
        },
        "id": "2TkU-jNQYlGU",
        "outputId": "08ea9b21-4ab8-435a-d4e5-4c6125138c63"
      },
      "execution_count": 8,
      "outputs": [
        {
          "output_type": "stream",
          "name": "stdout",
          "text": [
            "Sword collected\n"
          ]
        }
      ]
    },
    {
      "cell_type": "markdown",
      "source": [
        "Tasks to complete\n",
        "\n",
        "\n",
        "**Problem 1:** You are developing a game and you should ensure that the player has atleast any two item to move to next level.\n",
        "\n",
        "**Problem 2:** Create a form to get input from user and validate password and confirm password\n",
        "\n",
        "  Fields:\n",
        "  \n",
        "      1. Name\n",
        "\n",
        "      2. Email\n",
        "\n",
        "      3. Password\n",
        "\n",
        "      4. Confirm Password\n",
        "\n",
        "\n"
      ],
      "metadata": {
        "id": "gI3ZnWk4dtE5"
      }
    },
    {
      "cell_type": "code",
      "source": [
        "inproacademy2023@gmail.com"
      ],
      "metadata": {
        "id": "vdv201Usf-RX"
      },
      "execution_count": null,
      "outputs": []
    }
  ]
}