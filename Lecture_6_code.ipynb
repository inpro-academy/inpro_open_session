{
  "nbformat": 4,
  "nbformat_minor": 0,
  "metadata": {
    "colab": {
      "provenance": []
    },
    "kernelspec": {
      "name": "python3",
      "display_name": "Python 3"
    },
    "language_info": {
      "name": "python"
    }
  },
  "cells": [
    {
      "cell_type": "markdown",
      "source": [
        "List"
      ],
      "metadata": {
        "id": "rjHGkA7iSvIq"
      }
    },
    {
      "cell_type": "code",
      "execution_count": 16,
      "metadata": {
        "colab": {
          "base_uri": "https://localhost:8080/"
        },
        "id": "NbhXMymqSrYu",
        "outputId": "640d7f53-6db6-4412-8dde-5aa047e56596"
      },
      "outputs": [
        {
          "output_type": "stream",
          "name": "stdout",
          "text": [
            "Enter name of your friends based on rank separated by space:bijay kailash bibek\n",
            "['bijay', 'kailash', 'bibek']\n"
          ]
        }
      ],
      "source": [
        "user_input=input(\"Enter name of your friends based on rank separated by space:\")\n",
        "my_list=user_input.split()\n",
        "print(my_list)\n"
      ]
    },
    {
      "cell_type": "code",
      "source": [
        "my_list.append(\"Ramesh\")\n",
        "print(my_list)"
      ],
      "metadata": {
        "colab": {
          "base_uri": "https://localhost:8080/"
        },
        "id": "vXJr0QP9gGRN",
        "outputId": "b00976ea-9384-43c0-8f50-2557fe3b5a67"
      },
      "execution_count": 2,
      "outputs": [
        {
          "output_type": "stream",
          "name": "stdout",
          "text": [
            "['kailash', 'bibek', 'bijay', 'Ramesh']\n"
          ]
        }
      ]
    },
    {
      "cell_type": "code",
      "source": [
        "#remove(), del and pop\n",
        "my_list.remove(\"Ramesh\")\n",
        "print(my_list)"
      ],
      "metadata": {
        "colab": {
          "base_uri": "https://localhost:8080/"
        },
        "id": "IGXta6owgjeQ",
        "outputId": "c35dd98f-cc06-425e-e3a1-43756c6a1bda"
      },
      "execution_count": 5,
      "outputs": [
        {
          "output_type": "stream",
          "name": "stdout",
          "text": [
            "['kailash', 'bibek', 'bijay']\n"
          ]
        }
      ]
    },
    {
      "cell_type": "code",
      "source": [
        "del my_list[2]\n",
        "print(my_list)"
      ],
      "metadata": {
        "colab": {
          "base_uri": "https://localhost:8080/"
        },
        "id": "1FmeXp7Sg3Uy",
        "outputId": "0ee7f1ce-82f0-4737-ec56-06c80027fa4e"
      },
      "execution_count": 6,
      "outputs": [
        {
          "output_type": "stream",
          "name": "stdout",
          "text": [
            "['kailash', 'bibek']\n"
          ]
        }
      ]
    },
    {
      "cell_type": "code",
      "source": [
        "my_list.pop(1)\n",
        "print(my_list)"
      ],
      "metadata": {
        "colab": {
          "base_uri": "https://localhost:8080/"
        },
        "id": "QAuW3ezliA7s",
        "outputId": "770f9766-e244-4957-de07-d2abbbc1a4f6"
      },
      "execution_count": 7,
      "outputs": [
        {
          "output_type": "stream",
          "name": "stdout",
          "text": [
            "['kailash']\n"
          ]
        }
      ]
    },
    {
      "cell_type": "code",
      "source": [
        "#Tuple\n",
        "user_input=input(\"Enter name of your friends based on rank separated by space:\")\n",
        "my_list=tuple(user_input.split())\n",
        "print(my_list)"
      ],
      "metadata": {
        "colab": {
          "base_uri": "https://localhost:8080/"
        },
        "id": "r1vtyYMpiJ1a",
        "outputId": "d02fe082-8dad-423c-e990-05f2d818612a"
      },
      "execution_count": 8,
      "outputs": [
        {
          "output_type": "stream",
          "name": "stdout",
          "text": [
            "Enter name of your friends based on rank separated by space:kailash bibek bijay\n",
            "('kailash', 'bibek', 'bijay')\n"
          ]
        }
      ]
    },
    {
      "cell_type": "code",
      "source": [
        "#dictonary\n",
        "user_input=input(\"Enter name and age separated by comma\")\n",
        "name,age=user_input.split(',')\n",
        "my_dict={'name':name,\"age\":int(age)}\n",
        "print(my_dict)"
      ],
      "metadata": {
        "colab": {
          "base_uri": "https://localhost:8080/"
        },
        "id": "7kjSGUBFicnP",
        "outputId": "1f842100-c579-40af-cfa7-e2cc9b2946f7"
      },
      "execution_count": 11,
      "outputs": [
        {
          "output_type": "stream",
          "name": "stdout",
          "text": [
            "Enter name and age separated by commabijay,27\n",
            "{'name': 'bijay', 'age': 27}\n"
          ]
        }
      ]
    },
    {
      "cell_type": "code",
      "source": [
        "#sets\n",
        "user_input=input(\"Enter name of your friends based on rank separated by space:\")\n",
        "my_sets=set(user_input.split())\n",
        "print(my_sets)"
      ],
      "metadata": {
        "colab": {
          "base_uri": "https://localhost:8080/"
        },
        "id": "CzAyr1HdjIt6",
        "outputId": "3c97e909-8495-476e-a351-66d117487648"
      },
      "execution_count": 13,
      "outputs": [
        {
          "output_type": "stream",
          "name": "stdout",
          "text": [
            "Enter name of your friends based on rank separated by space:bijay kailash bijay bibek\n",
            "{'bijay', 'bibek', 'kailash'}\n"
          ]
        }
      ]
    },
    {
      "cell_type": "code",
      "source": [
        "user_input=input(\"Enter name of your friends based on rank separated by space:\")\n",
        "my_list=user_input.split()\n",
        "print(my_list)\n",
        "print(id(my_list[0]))"
      ],
      "metadata": {
        "id": "WikfcC0ekK0a"
      },
      "execution_count": null,
      "outputs": []
    }
  ]
}